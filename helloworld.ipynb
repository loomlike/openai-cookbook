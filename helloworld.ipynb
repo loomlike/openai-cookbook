{
 "cells": [
  {
   "cell_type": "code",
   "execution_count": 8,
   "metadata": {},
   "outputs": [],
   "source": [
    "# Import prerequisite libraries\n",
    "import os\n",
    "from openai import AzureOpenAI"
   ]
  },
  {
   "cell_type": "code",
   "execution_count": 9,
   "metadata": {},
   "outputs": [],
   "source": [
    "MODEL = \"jun-openai-gpt4\" # deployment name"
   ]
  },
  {
   "cell_type": "code",
   "execution_count": 3,
   "metadata": {},
   "outputs": [
    {
     "data": {
      "text/plain": [
       "[15339, 1917]"
      ]
     },
     "execution_count": 3,
     "metadata": {},
     "output_type": "execute_result"
    }
   ],
   "source": [
    "import tiktoken\n",
    "\n",
    "# tiktoken is a tokenizer for openAI models.\n",
    "enc = tiktoken.encoding_for_model(\"gpt-4\")\n",
    "enc.encode(\"hello world\")"
   ]
  },
  {
   "cell_type": "code",
   "execution_count": 10,
   "metadata": {},
   "outputs": [],
   "source": [
    "client = AzureOpenAI(\n",
    "    api_version=\"2023-12-01-preview\",  \n",
    "    api_key=os.environ[\"OPENAI_API_KEY\"],  \n",
    "    azure_endpoint=os.environ[\"OPENAI_API_ENDPOINT\"],\n",
    ")"
   ]
  },
  {
   "cell_type": "markdown",
   "metadata": {},
   "source": [
    "## Classification"
   ]
  },
  {
   "cell_type": "code",
   "execution_count": 5,
   "metadata": {},
   "outputs": [],
   "source": [
    "prompt = [\n",
    "    {\n",
    "        \"role\": \"system\",\n",
    "        \"content\": \"You are a text message sentiment classifier\"\n",
    "    },\n",
    "    {\n",
    "        \"role\": \"user\",\n",
    "        \"content\": \"\"\"\n",
    "        This is a text message sentiment classifier\n",
    "\n",
    "        Message: \"I loved the new adventure movie!\"\n",
    "        Sentiment: Positive\n",
    "\n",
    "        Message: \"I hate it when my phone battery dies\"\n",
    "        Sentiment: Negative\n",
    "\n",
    "        Message: \"My day has been 👍\"\n",
    "        Sentiment: Positive\n",
    "\n",
    "        Message: \"This is the link to the article\"\n",
    "        Sentiment: Neutral\n",
    "\n",
    "        Message text\n",
    "        1. \"I loved the new adventure movie!\"\n",
    "        2. \"I hate it when my phone battery dies\"\n",
    "        3. \"My day has been 👍\"\n",
    "        4. \"This is the link to the article\"\n",
    "        5. \"This new music video is unreal\"\n",
    "\n",
    "        Message sentiment ratings:\n",
    "        1: Positive\n",
    "        2: Negative\n",
    "        3: Positive\n",
    "        4: Neutral\n",
    "        5: Positive\n",
    "\n",
    "        Message text\n",
    "        1. \"He doesn't like homework\"\n",
    "        2. \"The taxi is late. She's angry 😠\"\n",
    "        3. \"I can't wait for the weekend!!!\"\n",
    "        4. \"My cat is adorable ❤️❤️\"\n",
    "        5. \"Let's try chocolate bananas\"\n",
    "\n",
    "        Message sentiment ratings:\n",
    "        1.\n",
    "        \"\"\"\n",
    "    }\n",
    "]"
   ]
  },
  {
   "cell_type": "code",
   "execution_count": 6,
   "metadata": {},
   "outputs": [],
   "source": [
    "response = client.chat.completions.create(\n",
    "    model=MODEL,\n",
    "    # Pre-define conversation messages for the possible roles \n",
    "    messages=prompt,\n",
    "    # temperature=0.9,  # A higher temperature (e.g., 0.7) results in more diverse and creative output, while a lower temperature (e.g., 0.2) makes the output more deterministic and focused.\n",
    "    # top_p=1,  # considers only a subset of tokens (the nucleus) whose cumulative probability mass adds up to a certain threshold (top_p).\n",
    ")"
   ]
  },
  {
   "cell_type": "code",
   "execution_count": 7,
   "metadata": {},
   "outputs": [
    {
     "name": "stdout",
     "output_type": "stream",
     "text": [
      "Message sentiment ratings:\n",
      "1. Negative\n",
      "2. Negative\n",
      "3. Positive\n",
      "4. Positive\n",
      "5. Neutral\n"
     ]
    }
   ],
   "source": [
    "print(response.choices[0].message.content)"
   ]
  },
  {
   "cell_type": "markdown",
   "metadata": {},
   "source": [
    "## Function Call"
   ]
  },
  {
   "cell_type": "code",
   "execution_count": 16,
   "metadata": {},
   "outputs": [
    {
     "name": "stdout",
     "output_type": "stream",
     "text": [
      "{\n",
      "  \"content\": \"To assist you with that, I need to know if there's a maximum price you'd like to set for the hotels. Could you please provide me with a budget for your stay in San Diego?\",\n",
      "  \"role\": \"assistant\",\n",
      "  \"function_call\": null,\n",
      "  \"tool_calls\": null\n",
      "}\n"
     ]
    }
   ],
   "source": [
    "\n",
    "messages = [\n",
    "    {\"role\": \"system\", \"content\": \"You're an AI assistant designed to help users search for hotels. For the function call, all the arguments should be provided. When a user asks for help finding a hotel, you should call the search_hotels function. Don't make assumptions about what values to use with functions. Ask for clarification if a user request is ambiguous.\"},\n",
    "    {\"role\": \"user\", \"content\": \"Find beachfront hotels in San Diego with free breakfast.\"}\n",
    "]\n",
    "\n",
    "functions = [  \n",
    "    {\n",
    "        \"name\": \"search_hotels\",\n",
    "        \"description\": \"Retrieves hotels from the search index based on the parameters provided\",\n",
    "        \"parameters\": {\n",
    "            \"type\": \"object\",\n",
    "            \"properties\": {\n",
    "                \"location\": {\n",
    "                    \"type\": \"string\",\n",
    "                    \"description\": \"The location of the hotel. The location should include the city and the state's abbreviation (i.e. Seattle, WA or Miami, FL)\"\n",
    "                },\n",
    "                \"max_price\": {\n",
    "                    \"type\": \"number\",\n",
    "                    \"description\": \"The maximum price for the hotel\"\n",
    "                },\n",
    "                \"features\": {\n",
    "                    \"type\": \"string\",\n",
    "                    \"description\": \"A comma separated list of features (i.e. beachfront, free wifi, etc.)\"\n",
    "                }\n",
    "            },\n",
    "            \"required\": [\"location\"]\n",
    "        }\n",
    "    }\n",
    "]  \n",
    "\n",
    "response = client.chat.completions.create(\n",
    "    model=MODEL,\n",
    "    messages=messages,\n",
    "    functions=functions,\n",
    "    function_call=\"auto\",\n",
    ")\n",
    "\n",
    "print(response.choices[0].message.model_dump_json(indent=2))"
   ]
  },
  {
   "cell_type": "code",
   "execution_count": 17,
   "metadata": {},
   "outputs": [],
   "source": [
    "prompt = [\n",
    "    {\n",
    "        \"role\": \"system\",\n",
    "        \"content\": \"convert the name of a movie from text into emoji\"\n",
    "    },\n",
    "    {\n",
    "        \"role\": \"user\",\n",
    "        \"content\": \"\"\"\n",
    "        Carpool Time: 👨👴👩🚗🕒\n",
    "        Robots in Cars: 🚗🤖\n",
    "        Super Femme: 👸🏻👸🏼👸🏽👸🏾👸🏿\n",
    "        Webs of the Spider: 🕸🕷🕸🕸🕷🕸\n",
    "        The Three Bears: 🐻🐼🐻\n",
    "        Mobster Family: 👨👩👧🕵🏻‍♂️👲💥\n",
    "        Arrows and Swords: 🏹🗡🗡🏹\n",
    "        Snowmobiles:\n",
    "        Alone in the dark:\n",
    "        Sex and the city:\n",
    "        \"\"\"\n",
    "    }\n",
    "]"
   ]
  },
  {
   "cell_type": "code",
   "execution_count": 19,
   "metadata": {},
   "outputs": [
    {
     "name": "stdout",
     "output_type": "stream",
     "text": [
      "Snowmobiles: ❄️🏍️\n",
      "Alone in the Dark: 👤😨🌑\n",
      "Sex and the City: 👠💄🏙️👯‍♀️\n"
     ]
    }
   ],
   "source": [
    "response = client.chat.completions.create(\n",
    "    model=MODEL,\n",
    "    messages=prompt,\n",
    ")\n",
    "print(response.choices[0].message.content)"
   ]
  },
  {
   "cell_type": "code",
   "execution_count": 20,
   "metadata": {},
   "outputs": [
    {
     "name": "stdout",
     "output_type": "stream",
     "text": [
      "{\n",
      "  \"World_Series_Winner_2020\": {\n",
      "    \"Team\": \"Los Angeles Dodgers\",\n",
      "    \"Defeated\": \"Tampa Bay Rays\",\n",
      "    \"Series_Score\": \"4-2\"\n",
      "  }\n",
      "}\n"
     ]
    }
   ],
   "source": [
    "response = client.chat.completions.create(\n",
    "    model=MODEL,\n",
    "    response_format={ \"type\": \"json_object\" },\n",
    "    messages=[\n",
    "        {\"role\": \"system\", \"content\": \"You are a helpful assistant designed to output JSON.\"},\n",
    "        {\"role\": \"user\", \"content\": \"Who won the world series in 2020?\"}\n",
    "    ]\n",
    ")\n",
    "print(response.choices[0].message.content)"
   ]
  },
  {
   "cell_type": "code",
   "execution_count": null,
   "metadata": {},
   "outputs": [],
   "source": [
    "response = client.chat.completions.create(\n",
    "    model=MODEL,\n",
    "    messages=[\n",
    "        {\"role\": \"user\", \"content\": \"Who won the world series in 2020?\"}\n",
    "    ],\n",
    "    stop=[\"\\n\"],  # use a stop sequence\n",
    ")\n",
    "print(response.choices[0].message.content)"
   ]
  }
 ],
 "metadata": {
  "kernelspec": {
   "display_name": "openai",
   "language": "python",
   "name": "python3"
  },
  "language_info": {
   "codemirror_mode": {
    "name": "ipython",
    "version": 3
   },
   "file_extension": ".py",
   "mimetype": "text/x-python",
   "name": "python",
   "nbconvert_exporter": "python",
   "pygments_lexer": "ipython3",
   "version": "3.10.13"
  }
 },
 "nbformat": 4,
 "nbformat_minor": 2
}
